{
 "cells": [
  {
   "cell_type": "markdown",
   "metadata": {},
   "source": [
    "<h1> DATA PROCESSING </h1>"
   ]
  },
  {
   "cell_type": "code",
   "execution_count": 1,
   "metadata": {},
   "outputs": [],
   "source": [
    "# import neccesary libraries\n",
    "\n",
    "import numpy as np\n",
    "import pandas as pd"
   ]
  },
  {
   "cell_type": "code",
   "execution_count": 2,
   "metadata": {},
   "outputs": [
    {
     "data": {
      "text/html": [
       "<div>\n",
       "<style scoped>\n",
       "    .dataframe tbody tr th:only-of-type {\n",
       "        vertical-align: middle;\n",
       "    }\n",
       "\n",
       "    .dataframe tbody tr th {\n",
       "        vertical-align: top;\n",
       "    }\n",
       "\n",
       "    .dataframe thead th {\n",
       "        text-align: right;\n",
       "    }\n",
       "</style>\n",
       "<table border=\"1\" class=\"dataframe\">\n",
       "  <thead>\n",
       "    <tr style=\"text-align: right;\">\n",
       "      <th></th>\n",
       "      <th>serialize</th>\n",
       "      <th>name</th>\n",
       "      <th>country</th>\n",
       "      <th>age</th>\n",
       "      <th>salary</th>\n",
       "      <th>purchased</th>\n",
       "    </tr>\n",
       "  </thead>\n",
       "  <tbody>\n",
       "    <tr>\n",
       "      <th>0</th>\n",
       "      <td>1</td>\n",
       "      <td>John</td>\n",
       "      <td>USA</td>\n",
       "      <td>23.0</td>\n",
       "      <td>50000.0</td>\n",
       "      <td>True</td>\n",
       "    </tr>\n",
       "    <tr>\n",
       "      <th>1</th>\n",
       "      <td>2</td>\n",
       "      <td>Alice</td>\n",
       "      <td>UK</td>\n",
       "      <td>29.0</td>\n",
       "      <td>NaN</td>\n",
       "      <td>False</td>\n",
       "    </tr>\n",
       "    <tr>\n",
       "      <th>2</th>\n",
       "      <td>3</td>\n",
       "      <td>Bob</td>\n",
       "      <td>Canada</td>\n",
       "      <td>35.0</td>\n",
       "      <td>60000.0</td>\n",
       "      <td>True</td>\n",
       "    </tr>\n",
       "    <tr>\n",
       "      <th>3</th>\n",
       "      <td>4</td>\n",
       "      <td>Emma</td>\n",
       "      <td>Germany</td>\n",
       "      <td>NaN</td>\n",
       "      <td>75000.0</td>\n",
       "      <td>True</td>\n",
       "    </tr>\n",
       "    <tr>\n",
       "      <th>4</th>\n",
       "      <td>5</td>\n",
       "      <td>Michael</td>\n",
       "      <td>Australia</td>\n",
       "      <td>42.0</td>\n",
       "      <td>NaN</td>\n",
       "      <td>False</td>\n",
       "    </tr>\n",
       "    <tr>\n",
       "      <th>5</th>\n",
       "      <td>6</td>\n",
       "      <td>Sarah</td>\n",
       "      <td>France</td>\n",
       "      <td>31.0</td>\n",
       "      <td>58000.0</td>\n",
       "      <td>True</td>\n",
       "    </tr>\n",
       "    <tr>\n",
       "      <th>6</th>\n",
       "      <td>7</td>\n",
       "      <td>David</td>\n",
       "      <td>USA</td>\n",
       "      <td>NaN</td>\n",
       "      <td>62000.0</td>\n",
       "      <td>False</td>\n",
       "    </tr>\n",
       "    <tr>\n",
       "      <th>7</th>\n",
       "      <td>8</td>\n",
       "      <td>Olivia</td>\n",
       "      <td>UK</td>\n",
       "      <td>28.0</td>\n",
       "      <td>NaN</td>\n",
       "      <td>True</td>\n",
       "    </tr>\n",
       "    <tr>\n",
       "      <th>8</th>\n",
       "      <td>9</td>\n",
       "      <td>James</td>\n",
       "      <td>Canada</td>\n",
       "      <td>36.0</td>\n",
       "      <td>69000.0</td>\n",
       "      <td>False</td>\n",
       "    </tr>\n",
       "    <tr>\n",
       "      <th>9</th>\n",
       "      <td>10</td>\n",
       "      <td>Sophia</td>\n",
       "      <td>Germany</td>\n",
       "      <td>NaN</td>\n",
       "      <td>72000.0</td>\n",
       "      <td>True</td>\n",
       "    </tr>\n",
       "    <tr>\n",
       "      <th>10</th>\n",
       "      <td>11</td>\n",
       "      <td>Daniel</td>\n",
       "      <td>Australia</td>\n",
       "      <td>30.0</td>\n",
       "      <td>NaN</td>\n",
       "      <td>True</td>\n",
       "    </tr>\n",
       "    <tr>\n",
       "      <th>11</th>\n",
       "      <td>12</td>\n",
       "      <td>Ava</td>\n",
       "      <td>France</td>\n",
       "      <td>27.0</td>\n",
       "      <td>64000.0</td>\n",
       "      <td>False</td>\n",
       "    </tr>\n",
       "    <tr>\n",
       "      <th>12</th>\n",
       "      <td>13</td>\n",
       "      <td>Matthew</td>\n",
       "      <td>USA</td>\n",
       "      <td>NaN</td>\n",
       "      <td>53000.0</td>\n",
       "      <td>True</td>\n",
       "    </tr>\n",
       "    <tr>\n",
       "      <th>13</th>\n",
       "      <td>14</td>\n",
       "      <td>Mia</td>\n",
       "      <td>UK</td>\n",
       "      <td>40.0</td>\n",
       "      <td>NaN</td>\n",
       "      <td>False</td>\n",
       "    </tr>\n",
       "    <tr>\n",
       "      <th>14</th>\n",
       "      <td>15</td>\n",
       "      <td>Ethan</td>\n",
       "      <td>Canada</td>\n",
       "      <td>22.0</td>\n",
       "      <td>67000.0</td>\n",
       "      <td>True</td>\n",
       "    </tr>\n",
       "    <tr>\n",
       "      <th>15</th>\n",
       "      <td>16</td>\n",
       "      <td>Isabella</td>\n",
       "      <td>Germany</td>\n",
       "      <td>33.0</td>\n",
       "      <td>71000.0</td>\n",
       "      <td>True</td>\n",
       "    </tr>\n",
       "    <tr>\n",
       "      <th>16</th>\n",
       "      <td>17</td>\n",
       "      <td>Henry</td>\n",
       "      <td>Australia</td>\n",
       "      <td>NaN</td>\n",
       "      <td>NaN</td>\n",
       "      <td>False</td>\n",
       "    </tr>\n",
       "    <tr>\n",
       "      <th>17</th>\n",
       "      <td>18</td>\n",
       "      <td>Emily</td>\n",
       "      <td>France</td>\n",
       "      <td>39.0</td>\n",
       "      <td>66000.0</td>\n",
       "      <td>True</td>\n",
       "    </tr>\n",
       "    <tr>\n",
       "      <th>18</th>\n",
       "      <td>19</td>\n",
       "      <td>Lucas</td>\n",
       "      <td>USA</td>\n",
       "      <td>24.0</td>\n",
       "      <td>54000.0</td>\n",
       "      <td>False</td>\n",
       "    </tr>\n",
       "    <tr>\n",
       "      <th>19</th>\n",
       "      <td>20</td>\n",
       "      <td>Grace</td>\n",
       "      <td>UK</td>\n",
       "      <td>NaN</td>\n",
       "      <td>62000.0</td>\n",
       "      <td>True</td>\n",
       "    </tr>\n",
       "  </tbody>\n",
       "</table>\n",
       "</div>"
      ],
      "text/plain": [
       "    serialize      name    country   age   salary  purchased\n",
       "0           1      John        USA  23.0  50000.0       True\n",
       "1           2     Alice         UK  29.0      NaN      False\n",
       "2           3       Bob     Canada  35.0  60000.0       True\n",
       "3           4      Emma    Germany   NaN  75000.0       True\n",
       "4           5   Michael  Australia  42.0      NaN      False\n",
       "5           6     Sarah     France  31.0  58000.0       True\n",
       "6           7     David        USA   NaN  62000.0      False\n",
       "7           8    Olivia         UK  28.0      NaN       True\n",
       "8           9     James     Canada  36.0  69000.0      False\n",
       "9          10    Sophia    Germany   NaN  72000.0       True\n",
       "10         11    Daniel  Australia  30.0      NaN       True\n",
       "11         12       Ava     France  27.0  64000.0      False\n",
       "12         13   Matthew        USA   NaN  53000.0       True\n",
       "13         14       Mia         UK  40.0      NaN      False\n",
       "14         15     Ethan     Canada  22.0  67000.0       True\n",
       "15         16  Isabella    Germany  33.0  71000.0       True\n",
       "16         17     Henry  Australia   NaN      NaN      False\n",
       "17         18     Emily     France  39.0  66000.0       True\n",
       "18         19     Lucas        USA  24.0  54000.0      False\n",
       "19         20     Grace         UK   NaN  62000.0       True"
      ]
     },
     "execution_count": 2,
     "metadata": {},
     "output_type": "execute_result"
    }
   ],
   "source": [
    "# open the dataset\n",
    "\n",
    "data = pd.read_csv('sample_dataset.csv')\n",
    "data\n",
    "\n",
    "#to decide which is dependent variable and which is not "
   ]
  },
  {
   "cell_type": "code",
   "execution_count": 3,
   "metadata": {},
   "outputs": [
    {
     "data": {
      "text/plain": [
       "array([['John', 'USA', 23.0, 50000.0],\n",
       "       ['Alice', 'UK', 29.0, nan],\n",
       "       ['Bob', 'Canada', 35.0, 60000.0],\n",
       "       ['Emma', 'Germany', nan, 75000.0],\n",
       "       ['Michael', 'Australia', 42.0, nan],\n",
       "       ['Sarah', 'France', 31.0, 58000.0],\n",
       "       ['David', 'USA', nan, 62000.0],\n",
       "       ['Olivia', 'UK', 28.0, nan],\n",
       "       ['James', 'Canada', 36.0, 69000.0],\n",
       "       ['Sophia', 'Germany', nan, 72000.0],\n",
       "       ['Daniel', 'Australia', 30.0, nan],\n",
       "       ['Ava', 'France', 27.0, 64000.0],\n",
       "       ['Matthew', 'USA', nan, 53000.0],\n",
       "       ['Mia', 'UK', 40.0, nan],\n",
       "       ['Ethan', 'Canada', 22.0, 67000.0],\n",
       "       ['Isabella', 'Germany', 33.0, 71000.0],\n",
       "       ['Henry', 'Australia', nan, nan],\n",
       "       ['Emily', 'France', 39.0, 66000.0],\n",
       "       ['Lucas', 'USA', 24.0, 54000.0],\n",
       "       ['Grace', 'UK', nan, 62000.0]], dtype=object)"
      ]
     },
     "execution_count": 3,
     "metadata": {},
     "output_type": "execute_result"
    }
   ],
   "source": [
    "# inependent variables\n",
    "x = data[['name', 'country','age','salary']].values\n",
    "\n",
    "x"
   ]
  },
  {
   "cell_type": "code",
   "execution_count": 4,
   "metadata": {},
   "outputs": [
    {
     "data": {
      "text/plain": [
       "array([[ True],\n",
       "       [False],\n",
       "       [ True],\n",
       "       [ True],\n",
       "       [False],\n",
       "       [ True],\n",
       "       [False],\n",
       "       [ True],\n",
       "       [False],\n",
       "       [ True],\n",
       "       [ True],\n",
       "       [False],\n",
       "       [ True],\n",
       "       [False],\n",
       "       [ True],\n",
       "       [ True],\n",
       "       [False],\n",
       "       [ True],\n",
       "       [False],\n",
       "       [ True]])"
      ]
     },
     "execution_count": 4,
     "metadata": {},
     "output_type": "execute_result"
    }
   ],
   "source": [
    "# dependant variable \n",
    "y = data[['purchased']].values\n",
    "y"
   ]
  },
  {
   "cell_type": "code",
   "execution_count": 5,
   "metadata": {},
   "outputs": [],
   "source": [
    "# TO fill the missing data in the dataset\n",
    "from sklearn.impute import SimpleImputer\n"
   ]
  },
  {
   "cell_type": "code",
   "execution_count": 6,
   "metadata": {},
   "outputs": [
    {
     "data": {
      "text/plain": [
       "array([['John', 'USA', 23.0, 50000.0],\n",
       "       ['Alice', 'UK', 29.0, 63071.42857142857],\n",
       "       ['Bob', 'Canada', 35.0, 60000.0],\n",
       "       ['Emma', 'Germany', 31.357142857142858, 75000.0],\n",
       "       ['Michael', 'Australia', 42.0, 63071.42857142857],\n",
       "       ['Sarah', 'France', 31.0, 58000.0],\n",
       "       ['David', 'USA', 31.357142857142858, 62000.0],\n",
       "       ['Olivia', 'UK', 28.0, 63071.42857142857],\n",
       "       ['James', 'Canada', 36.0, 69000.0],\n",
       "       ['Sophia', 'Germany', 31.357142857142858, 72000.0],\n",
       "       ['Daniel', 'Australia', 30.0, 63071.42857142857],\n",
       "       ['Ava', 'France', 27.0, 64000.0],\n",
       "       ['Matthew', 'USA', 31.357142857142858, 53000.0],\n",
       "       ['Mia', 'UK', 40.0, 63071.42857142857],\n",
       "       ['Ethan', 'Canada', 22.0, 67000.0],\n",
       "       ['Isabella', 'Germany', 33.0, 71000.0],\n",
       "       ['Henry', 'Australia', 31.357142857142858, 63071.42857142857],\n",
       "       ['Emily', 'France', 39.0, 66000.0],\n",
       "       ['Lucas', 'USA', 24.0, 54000.0],\n",
       "       ['Grace', 'UK', 31.357142857142858, 62000.0]], dtype=object)"
      ]
     },
     "execution_count": 6,
     "metadata": {},
     "output_type": "execute_result"
    }
   ],
   "source": [
    "imputer = SimpleImputer(missing_values=np.nan, strategy = 'mean')\n",
    "imputer = imputer.fit(x[:,2:4])\n",
    "x[:,2:4]= imputer.transform(x[:,2:4])\n",
    "x"
   ]
  },
  {
   "cell_type": "code",
   "execution_count": 7,
   "metadata": {},
   "outputs": [],
   "source": [
    "# many algorithms only wirks on numerics so need to onvert name to numeric\n",
    "from sklearn.preprocessing import LabelEncoder\n"
   ]
  },
  {
   "cell_type": "code",
   "execution_count": 8,
   "metadata": {},
   "outputs": [
    {
     "data": {
      "text/plain": [
       "array([['John', 5, 23.0, 50000.0],\n",
       "       ['Alice', 4, 29.0, 63071.42857142857],\n",
       "       ['Bob', 1, 35.0, 60000.0],\n",
       "       ['Emma', 3, 31.357142857142858, 75000.0],\n",
       "       ['Michael', 0, 42.0, 63071.42857142857],\n",
       "       ['Sarah', 2, 31.0, 58000.0],\n",
       "       ['David', 5, 31.357142857142858, 62000.0],\n",
       "       ['Olivia', 4, 28.0, 63071.42857142857],\n",
       "       ['James', 1, 36.0, 69000.0],\n",
       "       ['Sophia', 3, 31.357142857142858, 72000.0],\n",
       "       ['Daniel', 0, 30.0, 63071.42857142857],\n",
       "       ['Ava', 2, 27.0, 64000.0],\n",
       "       ['Matthew', 5, 31.357142857142858, 53000.0],\n",
       "       ['Mia', 4, 40.0, 63071.42857142857],\n",
       "       ['Ethan', 1, 22.0, 67000.0],\n",
       "       ['Isabella', 3, 33.0, 71000.0],\n",
       "       ['Henry', 0, 31.357142857142858, 63071.42857142857],\n",
       "       ['Emily', 2, 39.0, 66000.0],\n",
       "       ['Lucas', 5, 24.0, 54000.0],\n",
       "       ['Grace', 4, 31.357142857142858, 62000.0]], dtype=object)"
      ]
     },
     "execution_count": 8,
     "metadata": {},
     "output_type": "execute_result"
    }
   ],
   "source": [
    "label_encoder_x = LabelEncoder()\n",
    "x[:,1] = label_encoder_x.fit_transform(x[:,1])\n",
    "x"
   ]
  },
  {
   "cell_type": "code",
   "execution_count": 9,
   "metadata": {},
   "outputs": [],
   "source": [
    "# Now to make a perfect dummy of particular data set \n",
    "from sklearn.preprocessing import OneHotEncoder         "
   ]
  },
  {
   "cell_type": "code",
   "execution_count": 10,
   "metadata": {},
   "outputs": [
    {
     "data": {
      "text/plain": [
       "array([[0., 0., 0., 0., 0., 1.],\n",
       "       [0., 0., 0., 0., 1., 0.],\n",
       "       [0., 1., 0., 0., 0., 0.],\n",
       "       [0., 0., 0., 1., 0., 0.],\n",
       "       [1., 0., 0., 0., 0., 0.],\n",
       "       [0., 0., 1., 0., 0., 0.],\n",
       "       [0., 0., 0., 0., 0., 1.],\n",
       "       [0., 0., 0., 0., 1., 0.],\n",
       "       [0., 1., 0., 0., 0., 0.],\n",
       "       [0., 0., 0., 1., 0., 0.],\n",
       "       [1., 0., 0., 0., 0., 0.],\n",
       "       [0., 0., 1., 0., 0., 0.],\n",
       "       [0., 0., 0., 0., 0., 1.],\n",
       "       [0., 0., 0., 0., 1., 0.],\n",
       "       [0., 1., 0., 0., 0., 0.],\n",
       "       [0., 0., 0., 1., 0., 0.],\n",
       "       [1., 0., 0., 0., 0., 0.],\n",
       "       [0., 0., 1., 0., 0., 0.],\n",
       "       [0., 0., 0., 0., 0., 1.],\n",
       "       [0., 0., 0., 0., 1., 0.]])"
      ]
     },
     "execution_count": 10,
     "metadata": {},
     "output_type": "execute_result"
    }
   ],
   "source": [
    "oneHotEncoder = OneHotEncoder()\n",
    "x = oneHotEncoder.fit_transform(data.country.values.reshape(-1,1)).toarray()\n",
    "x"
   ]
  },
  {
   "cell_type": "code",
   "execution_count": 11,
   "metadata": {},
   "outputs": [
    {
     "name": "stderr",
     "output_type": "stream",
     "text": [
      "c:\\Users\\Admin\\AppData\\Local\\Programs\\Python\\Python311\\Lib\\site-packages\\sklearn\\preprocessing\\_label.py:114: DataConversionWarning: A column-vector y was passed when a 1d array was expected. Please change the shape of y to (n_samples, ), for example using ravel().\n",
      "  y = column_or_1d(y, warn=True)\n"
     ]
    },
    {
     "data": {
      "text/plain": [
       "array([1, 0, 1, 1, 0, 1, 0, 1, 0, 1, 1, 0, 1, 0, 1, 1, 0, 1, 0, 1],\n",
       "      dtype=int64)"
      ]
     },
     "execution_count": 11,
     "metadata": {},
     "output_type": "execute_result"
    }
   ],
   "source": [
    "label_encoder_y = LabelEncoder()\n",
    "y = label_encoder_y.fit_transform(y)\n",
    "y"
   ]
  },
  {
   "cell_type": "code",
   "execution_count": 12,
   "metadata": {},
   "outputs": [],
   "source": [
    "from sklearn.model_selection import train_test_split"
   ]
  },
  {
   "cell_type": "code",
   "execution_count": 13,
   "metadata": {},
   "outputs": [],
   "source": [
    "x_train,x_test,y_train,y_test = train_test_split(x,y,test_size =0.3, random_state = 0)\n"
   ]
  },
  {
   "cell_type": "code",
   "execution_count": 14,
   "metadata": {},
   "outputs": [
    {
     "data": {
      "text/plain": [
       "array([[0., 0., 0., 0., 0., 1.],\n",
       "       [0., 0., 0., 0., 1., 0.],\n",
       "       [1., 0., 0., 0., 0., 0.],\n",
       "       [0., 1., 0., 0., 0., 0.],\n",
       "       [0., 0., 1., 0., 0., 0.],\n",
       "       [0., 1., 0., 0., 0., 0.],\n",
       "       [0., 0., 0., 1., 0., 0.],\n",
       "       [0., 0., 0., 0., 1., 0.],\n",
       "       [1., 0., 0., 0., 0., 0.],\n",
       "       [0., 0., 1., 0., 0., 0.],\n",
       "       [0., 0., 0., 1., 0., 0.],\n",
       "       [0., 0., 0., 0., 0., 1.],\n",
       "       [0., 0., 0., 1., 0., 0.],\n",
       "       [0., 0., 0., 0., 0., 1.]])"
      ]
     },
     "execution_count": 14,
     "metadata": {},
     "output_type": "execute_result"
    }
   ],
   "source": [
    "x_train"
   ]
  },
  {
   "cell_type": "code",
   "execution_count": 15,
   "metadata": {},
   "outputs": [
    {
     "data": {
      "text/plain": [
       "array([[0., 0., 0., 0., 0., 1.],\n",
       "       [0., 0., 0., 0., 1., 0.],\n",
       "       [0., 0., 0., 0., 1., 0.],\n",
       "       [0., 1., 0., 0., 0., 0.],\n",
       "       [1., 0., 0., 0., 0., 0.],\n",
       "       [0., 0., 1., 0., 0., 0.]])"
      ]
     },
     "execution_count": 15,
     "metadata": {},
     "output_type": "execute_result"
    }
   ],
   "source": [
    "x_test"
   ]
  },
  {
   "cell_type": "code",
   "execution_count": 16,
   "metadata": {},
   "outputs": [
    {
     "data": {
      "text/plain": [
       "array([0, 0, 0, 1, 1, 1, 1, 1, 0, 0, 1, 1, 1, 1], dtype=int64)"
      ]
     },
     "execution_count": 16,
     "metadata": {},
     "output_type": "execute_result"
    }
   ],
   "source": [
    "y_train"
   ]
  },
  {
   "cell_type": "code",
   "execution_count": 17,
   "metadata": {},
   "outputs": [
    {
     "data": {
      "text/plain": [
       "array([0, 0, 1, 0, 1, 1], dtype=int64)"
      ]
     },
     "execution_count": 17,
     "metadata": {},
     "output_type": "execute_result"
    }
   ],
   "source": [
    "y_test"
   ]
  },
  {
   "cell_type": "code",
   "execution_count": 18,
   "metadata": {},
   "outputs": [],
   "source": [
    "# to make all features same \n",
    "from sklearn.preprocessing import StandardScaler\n"
   ]
  },
  {
   "cell_type": "code",
   "execution_count": 19,
   "metadata": {},
   "outputs": [
    {
     "data": {
      "text/plain": [
       "array([[-0.40824829, -0.40824829, -0.40824829, -0.52223297, -0.40824829,\n",
       "         1.91485422],\n",
       "       [-0.40824829, -0.40824829, -0.40824829, -0.52223297,  2.44948974,\n",
       "        -0.52223297],\n",
       "       [ 2.44948974, -0.40824829, -0.40824829, -0.52223297, -0.40824829,\n",
       "        -0.52223297],\n",
       "       [-0.40824829,  2.44948974, -0.40824829, -0.52223297, -0.40824829,\n",
       "        -0.52223297],\n",
       "       [-0.40824829, -0.40824829,  2.44948974, -0.52223297, -0.40824829,\n",
       "        -0.52223297],\n",
       "       [-0.40824829,  2.44948974, -0.40824829, -0.52223297, -0.40824829,\n",
       "        -0.52223297],\n",
       "       [-0.40824829, -0.40824829, -0.40824829,  1.91485422, -0.40824829,\n",
       "        -0.52223297],\n",
       "       [-0.40824829, -0.40824829, -0.40824829, -0.52223297,  2.44948974,\n",
       "        -0.52223297],\n",
       "       [ 2.44948974, -0.40824829, -0.40824829, -0.52223297, -0.40824829,\n",
       "        -0.52223297],\n",
       "       [-0.40824829, -0.40824829,  2.44948974, -0.52223297, -0.40824829,\n",
       "        -0.52223297],\n",
       "       [-0.40824829, -0.40824829, -0.40824829,  1.91485422, -0.40824829,\n",
       "        -0.52223297],\n",
       "       [-0.40824829, -0.40824829, -0.40824829, -0.52223297, -0.40824829,\n",
       "         1.91485422],\n",
       "       [-0.40824829, -0.40824829, -0.40824829,  1.91485422, -0.40824829,\n",
       "        -0.52223297],\n",
       "       [-0.40824829, -0.40824829, -0.40824829, -0.52223297, -0.40824829,\n",
       "         1.91485422]])"
      ]
     },
     "execution_count": 19,
     "metadata": {},
     "output_type": "execute_result"
    }
   ],
   "source": [
    "sc_x = StandardScaler()\n",
    "x_train = sc_x.fit_transform(x_train)\n",
    "x_train"
   ]
  },
  {
   "cell_type": "code",
   "execution_count": 20,
   "metadata": {},
   "outputs": [
    {
     "data": {
      "text/plain": [
       "array([[-0.4472136 , -0.4472136 , -0.4472136 ,  0.        , -0.70710678,\n",
       "         2.23606798],\n",
       "       [-0.4472136 , -0.4472136 , -0.4472136 ,  0.        ,  1.41421356,\n",
       "        -0.4472136 ],\n",
       "       [-0.4472136 , -0.4472136 , -0.4472136 ,  0.        ,  1.41421356,\n",
       "        -0.4472136 ],\n",
       "       [-0.4472136 ,  2.23606798, -0.4472136 ,  0.        , -0.70710678,\n",
       "        -0.4472136 ],\n",
       "       [ 2.23606798, -0.4472136 , -0.4472136 ,  0.        , -0.70710678,\n",
       "        -0.4472136 ],\n",
       "       [-0.4472136 , -0.4472136 ,  2.23606798,  0.        , -0.70710678,\n",
       "        -0.4472136 ]])"
      ]
     },
     "execution_count": 20,
     "metadata": {},
     "output_type": "execute_result"
    }
   ],
   "source": [
    "x_test = sc_x.fit_transform(x_test)\n",
    "x_test"
   ]
  }
 ],
 "metadata": {
  "kernelspec": {
   "display_name": "Python 3 (ipykernel)",
   "language": "python",
   "name": "python3"
  },
  "language_info": {
   "codemirror_mode": {
    "name": "ipython",
    "version": 3
   },
   "file_extension": ".py",
   "mimetype": "text/x-python",
   "name": "python",
   "nbconvert_exporter": "python",
   "pygments_lexer": "ipython3",
   "version": "3.11.4"
  }
 },
 "nbformat": 4,
 "nbformat_minor": 4
}
